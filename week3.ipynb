{
  "nbformat": 4,
  "nbformat_minor": 0,
  "metadata": {
    "colab": {
      "provenance": [],
      "collapsed_sections": []
    },
    "kernelspec": {
      "name": "python3",
      "display_name": "Python 3"
    },
    "language_info": {
      "name": "python"
    }
  },
  "cells": [
    {
      "cell_type": "markdown",
      "source": [
        "#Section A\n"
      ],
      "metadata": {
        "id": "bfpwWRwGfd7Z"
      }
    },
    {
      "cell_type": "code",
      "source": [
        "#1\n",
        "def divide(a,b,c):\n",
        "  sum1 =[]\n",
        "  add1 = 0\n",
        "  for i in range(a,b+1):\n",
        "    if i%c==0:\n",
        "      sum1.append(i)\n",
        "    else:\n",
        "      pass\n",
        "  if sum(sum1)==0:\n",
        "    print(\"no number between\", a ,\"and\", b, \"can be evenly divided by \", c)\n",
        "  else:\n",
        "    total = sum(sum1)\n",
        "    print(\"the sum of the numbers that are evenly divided by \", c, \"from the range  \", a ,\"to \",  b,\"is\",total)\n",
        "divide(1,10,2)"
      ],
      "metadata": {
        "colab": {
          "base_uri": "https://localhost:8080/"
        },
        "id": "8FhfwqAvrtHT",
        "outputId": "8ffbab87-2019-4df9-f5ee-5ac0311a5487"
      },
      "execution_count": null,
      "outputs": [
        {
          "output_type": "stream",
          "name": "stdout",
          "text": [
            "the sum of the numbers that are evenly divided by  2 from the range   1 to  10 is 30\n"
          ]
        }
      ]
    },
    {
      "cell_type": "code",
      "execution_count": null,
      "metadata": {
        "id": "kaoGe_EmPlbt",
        "colab": {
          "base_uri": "https://localhost:8080/"
        },
        "outputId": "5113905b-95ca-4782-c6c8-3afb1d2990e4"
      },
      "outputs": [
        {
          "output_type": "stream",
          "name": "stdout",
          "text": [
            "Enter a string: \n",
            "Prasad\n",
            "enter desired character: \n",
            "x\n",
            "\n",
            "Original String:  Prasad\n",
            "New string:  Prxsxd\n"
          ]
        }
      ],
      "source": [
        "#2\n",
        "def replace():\n",
        "  print(\"Enter a string: \")\n",
        "  str =input()\n",
        "  print(\"enter desired character: \")\n",
        "  char=input()\n",
        "  newstr= \"\"\n",
        "  for i in range(len(str)):\n",
        "    if str[i]=='a' or str[i]=='e'or str[i]=='i'or str[i]=='o'or str[i]=='u' :\n",
        "      newstr = newstr +char\n",
        "    else:\n",
        "      newstr = newstr +str[i]\n",
        "  print(\"\\nOriginal String: \", str)\n",
        "  print(\"New string: \", newstr)\n",
        "replace()"
      ]
    },
    {
      "cell_type": "code",
      "source": [
        "#3\n",
        "def (a):\n",
        "  if a ==1:\n",
        "    return 1\n",
        "  else:\n",
        "    return a*(a-1)\n",
        "\n",
        "x = int(input())\n",
        "res =(x)\n",
        "print(res)"
      ],
      "metadata": {
        "colab": {
          "base_uri": "https://localhost:8080/"
        },
        "id": "171RyMlsadon",
        "outputId": "3ddd3177-95e8-4158-faee-599bacf33bd6"
      },
      "execution_count": null,
      "outputs": [
        {
          "output_type": "stream",
          "name": "stdout",
          "text": [
            "5\n",
            "120\n"
          ]
        }
      ]
    },
    {
      "cell_type": "code",
      "source": [
        "#4\n",
        "def checkexpression(s):\n",
        "  expres = eval(s)\n",
        "  if expres:\n",
        "    return True\n",
        "  else:\n",
        "    return False\n",
        "  \n",
        "checkexpression(\"2<8<24\")"
      ],
      "metadata": {
        "colab": {
          "base_uri": "https://localhost:8080/"
        },
        "id": "tQisAFn4cMtd",
        "outputId": "e3a4fbcb-b000-402f-eff0-f7abea577d6a"
      },
      "execution_count": null,
      "outputs": [
        {
          "output_type": "execute_result",
          "data": {
            "text/plain": [
              "True"
            ]
          },
          "metadata": {},
          "execution_count": 1
        }
      ]
    },
    {
      "cell_type": "code",
      "source": [
        "#5\n",
        "def hamming(stri1 ,stri2):\n",
        "  i = 0\n",
        "  count=0\n",
        "  while i<len(stri1):\n",
        "    if stri1[i] != stri2[i]:\n",
        "      count += 1\n",
        "    i +=1\n",
        "  print(\"Hamming distance between\" ,stri1, \"and\",stri2,\"is :\",count)\n",
        "\n",
        "hamming(\"abcde\", \"bcdef\")\n",
        "\n"
      ],
      "metadata": {
        "id": "dA5QBabeePRO",
        "colab": {
          "base_uri": "https://localhost:8080/"
        },
        "outputId": "8c455f05-03ea-473d-bf7d-9c3e0017dd65"
      },
      "execution_count": null,
      "outputs": [
        {
          "output_type": "stream",
          "name": "stdout",
          "text": [
            "Hamming distance between abcde and bcdef is : 5\n"
          ]
        }
      ]
    },
    {
      "cell_type": "markdown",
      "source": [
        "#Section B"
      ],
      "metadata": {
        "id": "CYPi2y6pfiyu"
      }
    },
    {
      "cell_type": "code",
      "source": [
        "#1\n",
        "def sort(l):\n",
        "  newl =[]\n",
        "  for i in l:\n",
        "    if i == int:\n",
        "      newl = newl.append(i)\n",
        "    else:\n",
        "      pass\n",
        "  print(newl)\n",
        "x = [1,2,3,'d',4]\n",
        "sort(x)\n"
      ],
      "metadata": {
        "colab": {
          "base_uri": "https://localhost:8080/"
        },
        "id": "qfFoTI3zfnBc",
        "outputId": "1fe1f8ef-ff31-4648-8167-3bf810c0e728"
      },
      "execution_count": null,
      "outputs": [
        {
          "output_type": "stream",
          "name": "stdout",
          "text": [
            "[]\n"
          ]
        }
      ]
    },
    {
      "cell_type": "code",
      "source": [
        "  #2\n",
        "  s =input()\n",
        "  reverse = \"\"\n",
        "  for i in range(len(s)-1,-1,-1):\n",
        "    reverse += s[i]\n",
        "  print(reverse)\n"
      ],
      "metadata": {
        "colab": {
          "base_uri": "https://localhost:8080/"
        },
        "id": "zWOdL4egmGK9",
        "outputId": "ee713600-623d-400f-8886-8bfc564f64b3"
      },
      "execution_count": null,
      "outputs": [
        {
          "output_type": "stream",
          "name": "stdout",
          "text": [
            "Prasad\n",
            "dasarP\n"
          ]
        }
      ]
    },
    {
      "cell_type": "code",
      "source": [
        "#3\n"
      ],
      "metadata": {
        "id": "SfosAul6Ay0v"
      },
      "execution_count": null,
      "outputs": []
    },
    {
      "cell_type": "code",
      "source": [
        "#4\n",
        "def fact(n):\n",
        "   if n == 1:\n",
        "       return n\n",
        "   else:\n",
        "       return n*fact(n-1)\n",
        "\n",
        "num = int(input(\"Enter the number : \"))\n",
        "\n",
        "\n",
        "if num < 0:\n",
        "   print(\"Sorry, orial does not exist for negative numbers\")\n",
        "elif num == 0:\n",
        "   print(\"The orial of 0 is 1\")\n",
        "else:\n",
        "   print(\"The orial of\", num, \"is\", fact(num))"
      ],
      "metadata": {
        "id": "b7FO_ia1BGZQ"
      },
      "execution_count": null,
      "outputs": []
    },
    {
      "cell_type": "code",
      "source": [
        "#5\n"
      ],
      "metadata": {
        "id": "iUwrQz1EBoPh"
      },
      "execution_count": null,
      "outputs": []
    },
    {
      "cell_type": "markdown",
      "source": [
        "#Section C"
      ],
      "metadata": {
        "id": "AQsnluk7BuUu"
      }
    },
    {
      "cell_type": "code",
      "source": [
        "#1\n",
        "def multicharac(text, n):\n",
        "    return ''.join([x * n for x in text])\n",
        "multichar(\"Shreyas\",3)"
      ],
      "metadata": {
        "id": "yCpvUgELBtfp",
        "colab": {
          "base_uri": "https://localhost:8080/",
          "height": 205
        },
        "outputId": "ad5e882f-fac3-49b4-ff45-1d6d45d9d434"
      },
      "execution_count": 1,
      "outputs": [
        {
          "output_type": "error",
          "ename": "NameError",
          "evalue": "ignored",
          "traceback": [
            "\u001b[0;31m---------------------------------------------------------------------------\u001b[0m",
            "\u001b[0;31mNameError\u001b[0m                                 Traceback (most recent call last)",
            "\u001b[0;32m<ipython-input-1-40fece054c99>\u001b[0m in \u001b[0;36m<module>\u001b[0;34m\u001b[0m\n\u001b[1;32m      2\u001b[0m \u001b[0;32mdef\u001b[0m \u001b[0mmulticharac\u001b[0m\u001b[0;34m(\u001b[0m\u001b[0mtext\u001b[0m\u001b[0;34m,\u001b[0m \u001b[0mn\u001b[0m\u001b[0;34m)\u001b[0m\u001b[0;34m:\u001b[0m\u001b[0;34m\u001b[0m\u001b[0;34m\u001b[0m\u001b[0m\n\u001b[1;32m      3\u001b[0m     \u001b[0;32mreturn\u001b[0m \u001b[0;34m''\u001b[0m\u001b[0;34m.\u001b[0m\u001b[0mjoin\u001b[0m\u001b[0;34m(\u001b[0m\u001b[0;34m[\u001b[0m\u001b[0mx\u001b[0m \u001b[0;34m*\u001b[0m \u001b[0mn\u001b[0m \u001b[0;32mfor\u001b[0m \u001b[0mx\u001b[0m \u001b[0;32min\u001b[0m \u001b[0mtext\u001b[0m\u001b[0;34m]\u001b[0m\u001b[0;34m)\u001b[0m\u001b[0;34m\u001b[0m\u001b[0;34m\u001b[0m\u001b[0m\n\u001b[0;32m----> 4\u001b[0;31m \u001b[0mmultichar\u001b[0m\u001b[0;34m(\u001b[0m\u001b[0;34m\"Shreyas\"\u001b[0m\u001b[0;34m,\u001b[0m\u001b[0;36m3\u001b[0m\u001b[0;34m)\u001b[0m\u001b[0;34m\u001b[0m\u001b[0;34m\u001b[0m\u001b[0m\n\u001b[0m",
            "\u001b[0;31mNameError\u001b[0m: name 'multichar' is not defined"
          ]
        }
      ]
    },
    {
      "cell_type": "code",
      "source": [
        "#2\n",
        "def reverse_func(args):\n",
        "\tif isinstance(args, bool):\n",
        "\t\treturn not args\n",
        "\telse:\n",
        "\t\treturn('boolean expected')\n",
        "\n",
        "def reverse(args=None):\n",
        "\treturn not args if type(args) == bool else \"boolean expected\"\n",
        "\n",
        "print(reverse(True)) \n",
        "print(reverse(False)) \n",
        "print(reverse(0)) \n",
        "print(reverse(None)) "
      ],
      "metadata": {
        "colab": {
          "base_uri": "https://localhost:8080/"
        },
        "id": "Ae9c257hCjwJ",
        "outputId": "3aa603b4-e55f-4df1-9310-ea3f0bd73c5f"
      },
      "execution_count": null,
      "outputs": [
        {
          "output_type": "stream",
          "name": "stdout",
          "text": [
            "False\n",
            "True\n",
            "boolean expected\n",
            "boolean expected\n"
          ]
        }
      ]
    },
    {
      "cell_type": "code",
      "source": [
        "#3\n",
        "def funct2(a):\n",
        "    result = 0.5\n",
        "    for i in range(a):\n",
        "        result *= 2\n",
        "    \n",
        "    return result / 1000 \n",
        "funct2(1)"
      ],
      "metadata": {
        "colab": {
          "base_uri": "https://localhost:8080/"
        },
        "id": "mO3hwi0fDA3R",
        "outputId": "1398c23c-b214-4add-d37f-75c055b1445a"
      },
      "execution_count": null,
      "outputs": [
        {
          "output_type": "execute_result",
          "data": {
            "text/plain": [
              "0.001"
            ]
          },
          "metadata": {},
          "execution_count": 6
        }
      ]
    },
    {
      "cell_type": "code",
      "source": [
        "#4\n",
        "test1 = \"ShreyasHundekar\"\n",
        " \n",
        "\n",
        "print(\"The original string is : \" + str(test1))\n",
        " \n",
        "\n",
        "result = [idx for idx in range(len(test1)) if test1[idx].isupper()]\n",
        " \n",
        "\n",
        "print(\"Uppercase elements indices : \" + str(result ))"
      ],
      "metadata": {
        "colab": {
          "base_uri": "https://localhost:8080/"
        },
        "id": "vjLMs_VjDHfn",
        "outputId": "3a0ffee3-77ec-48ad-cde4-3791ed36579e"
      },
      "execution_count": null,
      "outputs": [
        {
          "output_type": "stream",
          "name": "stdout",
          "text": [
            "The original string is : PrasadBhor\n",
            "Uppercase elements indices : [0, 6]\n"
          ]
        }
      ]
    },
    {
      "cell_type": "code",
      "source": [
        "#5\n",
        "\n",
        "test_list=[i for i in range (5) if(i%2==0)]\n",
        "\n",
        "print(test_list)"
      ],
      "metadata": {
        "colab": {
          "base_uri": "https://localhost:8080/"
        },
        "id": "GO7RljvlDUeJ",
        "outputId": "dc9c1a30-31f3-4da0-b492-fa44abc876fa"
      },
      "execution_count": null,
      "outputs": [
        {
          "output_type": "stream",
          "name": "stdout",
          "text": [
            "[0, 2, 4]\n"
          ]
        }
      ]
    },
    {
      "cell_type": "markdown",
      "source": [
        "#Section D"
      ],
      "metadata": {
        "id": "37TCYb12Dicg"
      }
    },
    {
      "cell_type": "code",
      "source": [
        "#1\n",
        "list1 = [3,4,5,\"Shreyas\", \"Hundekar\"]\n",
        "output = [x for x in list1 if type(x) != str]\n",
        "print(output)"
      ],
      "metadata": {
        "colab": {
          "base_uri": "https://localhost:8080/"
        },
        "id": "M8iAIAzgDgwo",
        "outputId": "64564611-bc47-488a-b0a9-3c8bd67ceed3"
      },
      "execution_count": null,
      "outputs": [
        {
          "output_type": "stream",
          "name": "stdout",
          "text": [
            "[3, 4, 5]\n"
          ]
        }
      ]
    },
    {
      "cell_type": "code",
      "source": [
        "#2"
      ],
      "metadata": {
        "id": "B66ATcQ6DqvQ"
      },
      "execution_count": null,
      "outputs": []
    },
    {
      "cell_type": "code",
      "source": [
        "#3\n",
        "import math\n",
        "Pi = math.pi\n",
        "def volume1(r, h):\n",
        "    return (1 / 3) * Pi * r * r * h\n",
        "def surface_area(r, s):\n",
        "    return Pi * r * s + Pi * r * r\n",
        "radius = float(2)\n",
        "height = float(3)\n",
        "slant_height = float(5)\n",
        "print( \"Volume Of Cone : \", volume1(radius, height) )\n",
        "print( \"Surface Area Of Cone : \", surface_area(radius, slant_height) )"
      ],
      "metadata": {
        "colab": {
          "base_uri": "https://localhost:8080/"
        },
        "id": "GAHsiQi7DstN",
        "outputId": "ce540baa-af69-4ce7-8e7c-eb22755748e3"
      },
      "execution_count": null,
      "outputs": [
        {
          "output_type": "stream",
          "name": "stdout",
          "text": [
            "Volume Of Cone :  12.566370614359172\n",
            "Surface Area Of Cone :  43.982297150257104\n"
          ]
        }
      ]
    },
    {
      "cell_type": "code",
      "source": [
        "#5\n",
        "def missing_number(list1):\n",
        "\n",
        "   for n in range(1,11):\n",
        "\n",
        "       if n not in list1:\n",
        "\n",
        "           print(n)\n",
        "\n",
        "list1 = (1,3,4,5,6,7,8,9,10)\n",
        "\n",
        "missing_number(list1)"
      ],
      "metadata": {
        "colab": {
          "base_uri": "https://localhost:8080/"
        },
        "id": "BiQdJt_fECi0",
        "outputId": "28945fb1-2aa9-41a0-f49c-6aaa437213f3"
      },
      "execution_count": null,
      "outputs": [
        {
          "output_type": "stream",
          "name": "stdout",
          "text": [
            "2\n"
          ]
        }
      ]
    }
  ]
}