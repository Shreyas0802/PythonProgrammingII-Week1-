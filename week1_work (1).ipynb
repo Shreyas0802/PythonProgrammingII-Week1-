{
  "cells": [
    {
      "cell_type": "markdown",
      "source": [
        "Section A"
      ],
      "metadata": {
        "id": "In9f2BYMMTeQ"
      }
    },
    {
      "cell_type": "code",
      "source": [
        "#Question 1\n",
        "\n",
        "print(\"Hello Python\")\n"
      ],
      "metadata": {
        "id": "ns6OrhMrMWhF"
      },
      "execution_count": null,
      "outputs": []
    },
    {
      "cell_type": "code",
      "execution_count": null,
      "metadata": {
        "id": "HqhFuLoFhsoV"
      },
      "outputs": [],
      "source": [
        "#Question2\n",
        "a=int(input(\"Enter the 1st number=\"))\n",
        "b=int(input(\"Enter the 2nd number=\"))\n",
        "Add=a+b\n",
        "Div=a/b\n",
        "print(\"Addition of 1st and 2nd number\",Add)\n",
        "print(\"Division of 1st and 2nd number\",Div)\n"
      ]
    },
    {
      "cell_type": "code",
      "execution_count": null,
      "metadata": {
        "id": "f325U5X9ibqS"
      },
      "outputs": [],
      "source": [
        "#Question 3\n",
        "base=int(input(\"Enter the base value=\"))\n",
        "height=int(input(\"Enter the height value=\"))\n",
        "area=0.5*base*height\n",
        "print(\"Area of Triangle is \",area)\n"
      ]
    },
    {
      "cell_type": "code",
      "execution_count": 2,
      "metadata": {
        "id": "d7l2Q24li4nR",
        "colab": {
          "base_uri": "https://localhost:8080/"
        },
        "outputId": "21c84d26-5da7-43b1-fd7a-d19c1488a6bc"
      },
      "outputs": [
        {
          "output_type": "stream",
          "name": "stdout",
          "text": [
            "Enter the X value:50\n",
            "Enter the Y value:20\n",
            "Value of x: 20\n",
            "Value of y: 50\n"
          ]
        }
      ],
      "source": [
        "#Question 4\n",
        "x = int(input(\"Enter the X value:\"))\n",
        "y = int(input(\"Enter the Y value:\"))\n",
        " \n",
        "temp = x\n",
        "x = y\n",
        "y = temp\n",
        " \n",
        "print(\"Value of x:\", x)\n",
        "print(\"Value of y:\", y)\n"
      ]
    },
    {
      "cell_type": "code",
      "execution_count": null,
      "metadata": {
        "colab": {
          "background_save": true,
          "base_uri": "https://localhost:8080/"
        },
        "id": "CUdawdpC9kfJ",
        "outputId": "f7a8c977-949b-435f-c2c3-113835e50807"
      },
      "outputs": [
        {
          "name": "stdout",
          "output_type": "stream",
          "text": [
            "\n"
          ]
        }
      ],
      "source": [
        "#Question No.5\n",
        "import random\n",
        "a=random.random()\n",
        "print(\"\")"
      ]
    },
    {
      "cell_type": "markdown",
      "source": [
        "#Section b"
      ],
      "metadata": {
        "id": "gR1zkq41yLi3"
      }
    },
    {
      "cell_type": "code",
      "source": [
        "#Question 1\n",
        "km=int(input(\"Enter the kilometer value:\"))\n",
        "miles=0.621*km\n",
        "print(km,\"Kilometers =\",miles,\"Miles\" )"
      ],
      "metadata": {
        "id": "3FqTf1sZrmBu"
      },
      "execution_count": null,
      "outputs": []
    },
    {
      "cell_type": "code",
      "source": [
        "#Question 2\n",
        "Celsius=int(input(\"Enter the Celsius Value:\"))\n",
        "Fahrenheit=(Celsius*1.8)+32\n",
        "print(Celsius,\"Celsius =\",Fahrenheit,\"Fahrenheit\")\n"
      ],
      "metadata": {
        "id": "kk6bxCwKs1kp"
      },
      "execution_count": null,
      "outputs": []
    },
    {
      "cell_type": "code",
      "source": [
        "#Question 3\n",
        "import calendar\n",
        "yyyy=int(input(\"Enter the year (yyyy):\"))\n",
        "mm=int(input(\"Enter the month (mm): \"))\n",
        "print(calendar.month(yyyy, mm))"
      ],
      "metadata": {
        "id": "mRfF6PkeuKwn"
      },
      "execution_count": null,
      "outputs": []
    },
    {
      "cell_type": "code",
      "source": [
        "#Question 5\n",
        "\n",
        "x = int(input(\"Enter the X value:\"))\n",
        "y = int(input(\"Enter the Y value:\"))\n",
        "x,y=y,x\n",
        "print(\"X=\",x)\n",
        "print(\"Y=\",y)"
      ],
      "metadata": {
        "colab": {
          "base_uri": "https://localhost:8080/"
        },
        "id": "0F-aZJVPNwZW",
        "outputId": "2f7794b6-cf2c-4d47-8195-4cf629ad0b01"
      },
      "execution_count": 4,
      "outputs": [
        {
          "output_type": "stream",
          "name": "stdout",
          "text": [
            "Enter the X value:50\n",
            "Enter the Y value:10\n",
            "X= 10\n",
            "Y= 50\n"
          ]
        }
      ]
    },
    {
      "cell_type": "markdown",
      "source": [
        "Section C"
      ],
      "metadata": {
        "id": "SCejbc4Lze2P"
      }
    },
    {
      "cell_type": "code",
      "source": [
        "#Question 1\n",
        "num=int(input(\"Enter the value:\"))\n",
        "if num>0:\n",
        "  print(\"Number is positive\")\n",
        "elif num<0:\n",
        "  print(\"Number is negative\")\n",
        "else:\n",
        " print(\"Number is zero\")  "
      ],
      "metadata": {
        "id": "oUvz8JJuzhzk"
      },
      "execution_count": null,
      "outputs": []
    },
    {
      "cell_type": "code",
      "source": [
        "#Question 2\n",
        "num=int(input(\"Enter the value=\"))\n",
        "if num%2==0:\n",
        "  print(\"The number is Even\")\n",
        "else:\n",
        "  print(\"The number is Odd\")\n"
      ],
      "metadata": {
        "id": "GYKKtB_d0Myr"
      },
      "execution_count": null,
      "outputs": []
    },
    {
      "cell_type": "markdown",
      "source": [
        "Section D"
      ],
      "metadata": {
        "id": "SkUm4xAQ5z4_"
      }
    },
    {
      "cell_type": "code",
      "source": [
        "#Question 1\n",
        "num = int(input(\"Enter a number: \"))    \n",
        "factorial = 1    \n",
        "if num < 0:    \n",
        "   print(\" Factorial does not exist for negative numbers\")    \n",
        "elif num == 0:    \n",
        "   print(\"The factorial of 0 is 1\")    \n",
        "else:    \n",
        "   for i in range(1,num + 1):    \n",
        "       factorial = factorial*i    \n",
        "   print(\"The factorial of\",num,\"is\",factorial)    "
      ],
      "metadata": {
        "id": "ojhz5AD35ZY1",
        "colab": {
          "base_uri": "https://localhost:8080/"
        },
        "outputId": "c1e491c1-b5e2-4111-bd46-adf88b74cdd5"
      },
      "execution_count": 5,
      "outputs": [
        {
          "output_type": "stream",
          "name": "stdout",
          "text": [
            "Enter a number: 10\n",
            "The factorial of 10 is 3628800\n"
          ]
        }
      ]
    },
    {
      "cell_type": "code",
      "source": [
        "#Question 2\n",
        "num = int(input(\"Display multiplication table of? \"))\n",
        "for i in range(1, 11):\n",
        "   print(num, 'x', i, '=', num*i)"
      ],
      "metadata": {
        "id": "fFhVI9Ri55v6"
      },
      "execution_count": null,
      "outputs": []
    },
    {
      "cell_type": "code",
      "source": [
        "#Question 3\n",
        "nterm=int (input(\"Enter the terms to be printed:\"))\n",
        "n1=1\n",
        "count=0\n",
        "if nterm<=0:\n",
        "  print(\"Please enter a positive integer, the given number is not valid\")\n",
        "elif nterm==1:\n",
        "  print (\"The Fibonacci sequence of the number upto:\",nterm, \":\")\n",
        "  print (n1)\n",
        "else:\n",
        "    print (\"The Fibonacci sequence of the number is:\")\n",
        "while count <nterm:\n",
        "  print (n1)\n",
        "  nth=n1+n2\n",
        "  n1=n2\n",
        "  n2=nth \n",
        "  count +=1"
      ],
      "metadata": {
        "id": "guKHUvem6lzb"
      },
      "execution_count": null,
      "outputs": []
    },
    {
      "cell_type": "code",
      "source": [
        "#question 6\n",
        "num=int(input(\"Enter the natural number:\"))\n",
        "if num < 0:\n",
        "   print(\"Enter a positive number\")\n",
        "else:\n",
        "   sum = 0\n",
        "   # use while loop to iterate until zero\n",
        "   while(num > 0):\n",
        "       sum += num\n",
        "       num -= 1\n",
        "   print(\"The sum is\", sum)"
      ],
      "metadata": {
        "id": "3JbxtRQhHKMn"
      },
      "execution_count": null,
      "outputs": []
    },
    {
      "cell_type": "markdown",
      "source": [
        "Section F"
      ],
      "metadata": {
        "id": "mNTmj6LXQEl7"
      }
    },
    {
      "cell_type": "code",
      "source": [
        "#Quesion 1\n",
        "Numeric= [12, 8, 9, 2, 5]\n",
        "sum=sum(Numericlist)\n",
        "print(list)\n",
        "print(\"sum of list: \",sum)"
      ],
      "metadata": {
        "id": "o72m3vvyQN85"
      },
      "execution_count": null,
      "outputs": []
    },
    {
      "cell_type": "code",
      "source": [
        "#Question3\n",
        "print(list)\n",
        "smallest=min(list)\n",
        "print(\"Smallest number in the list\",smallest)"
      ],
      "metadata": {
        "id": "jbwOBbeoVhoy"
      },
      "execution_count": null,
      "outputs": []
    },
    {
      "cell_type": "code",
      "source": [
        "#Question 4\n",
        "print(list)\n",
        "largest=max(list)\n",
        "print(\"Largest number  in the list\",largest)"
      ],
      "metadata": {
        "id": "Bux-6hCwXFSK"
      },
      "execution_count": null,
      "outputs": []
    },
    {
      "cell_type": "code",
      "source": [
        "#Question5\n",
        " \n",
        "# print second maximum element using sorted() method\n",
        "print(\"Second largest element is:\", sorted(list)[-2])"
      ],
      "metadata": {
        "id": "cY3Kw7R1ZkP4"
      },
      "execution_count": null,
      "outputs": []
    },
    {
      "cell_type": "code",
      "source": [
        "#Question7\n",
        "print(list)\n",
        "for num in list:\n",
        "  if num%2==0:\n",
        "    print(num,end=\" \")"
      ],
      "metadata": {
        "id": "Yct-A9o3axPn"
      },
      "execution_count": null,
      "outputs": []
    },
    {
      "cell_type": "code",
      "source": [
        "#Question8\n",
        "print(list)\n",
        "for num in list:\n",
        "  if num%2==1:\n",
        "    print(num,end=\" \")"
      ],
      "metadata": {
        "id": "6iJMGMcDbj9F"
      },
      "execution_count": null,
      "outputs": []
    },
    {
      "cell_type": "code",
      "source": [
        "\n",
        "#Question9\n",
        "def cloning(List):\n",
        " list=[2,4,6,89,7]\n",
        "List=cloning(list)\n",
        "print(\"Before cloning\",list)\n",
        "print('After cloning',List)\n"
      ],
      "metadata": {
        "id": "LI1pAlf7cBoA"
      },
      "execution_count": null,
      "outputs": []
    }
  ],
  "metadata": {
    "colab": {
      "name": "week1_work.ipynb",
      "provenance": [],
      "collapsed_sections": []
    },
    "kernelspec": {
      "display_name": "Python 3",
      "name": "python3"
    },
    "language_info": {
      "name": "python"
    }
  },
  "nbformat": 4,
  "nbformat_minor": 0
}