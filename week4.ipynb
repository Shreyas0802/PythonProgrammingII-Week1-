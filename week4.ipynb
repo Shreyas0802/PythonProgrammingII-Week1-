{
  "nbformat": 4,
  "nbformat_minor": 0,
  "metadata": {
    "colab": {
      "provenance": []
    },
    "kernelspec": {
      "name": "python3",
      "display_name": "Python 3"
    },
    "language_info": {
      "name": "python"
    }
  },
  "cells": [
    {
      "cell_type": "markdown",
      "source": [
        "NAME- SHREYAS HUNDEKAR\n",
        "ROLL NO. 29\n",
        "DIV A / A2 BATCH\n",
        "BRANCH- EXTC / SE"
      ],
      "metadata": {
        "id": "fCuLHN0jve6f"
      }
    },
    {
      "cell_type": "code",
      "source": [
        "\n",
        "#1\n",
        "class vehicle:\n",
        "    def __init__(self, max_speed, mileage):\n",
        "        self.max_speed = max_speed\n",
        "        self.mileage = mileage\n",
        "        \n",
        "        \n",
        "car = vehicle(120,20 )\n",
        "print(car.max_speed, car.mileage)\n",
        "\n",
        "#2\n",
        "class vehicle:\n",
        "    pass\n",
        "#3\n",
        "\n",
        "class vehicle:\n",
        "    def __init__(self, name, mileage, capacity):\n",
        "        self.name = name\n",
        "        self.mileage = mileage\n",
        "        self.capacity = capacity\n",
        "\n",
        "\n",
        "class Bus(vehicle):\n",
        "    pass\n",
        "class Vehicle:\n",
        "    def __init__(self, name, max_speed, mileage):\n",
        "        self.name = name\n",
        "        self.max_speed = max_speed\n",
        "        self.mileage = mileage\n",
        "\n",
        "    def bus_seating_capacity(self, capacity):\n",
        "        return capacity\n",
        "\n",
        "class Bus(Vehicle):\n",
        "    \n",
        "    def seating_capacity(self, capacity=50):\n",
        "        return super().bus_seating_capacity(capacity=50)\n",
        "bus = Bus(\"Tesla\", 180, 20)\n",
        "print(bus.seating_capacity())\n",
        "50\n",
        "class vehicle:\n",
        "    def __init__(self, name, mileage, capacity):\n",
        "        self.name = name\n",
        "        self.mileage = mileage\n",
        "        self.capacity = capacity\n",
        "\n",
        "    def busfare(self):\n",
        "        return self.capacity * 100\n",
        "\n",
        "class Bus(vehicle):\n",
        "    def busfare(self):\n",
        "        amount = super().busfare()\n",
        "        amount += amount * 10 / 100\n",
        "        return amount\n",
        "\n",
        "bus = Bus(\"Tesla\", 15, 50)\n",
        "print(\"Total Bus fare is:\", bus.busfare())\n",
        "Total Bus fare is: 5500.0"
      ],
      "metadata": {
        "id": "PNQupwDBvqzc"
      },
      "execution_count": null,
      "outputs": []
    },
    {
      "cell_type": "code",
      "source": [
        "#1\n",
        "class vehicle:\n",
        "    def __init__(self, max_speed, mileage):\n",
        "        self.max_speed = max_speed\n",
        "        self.mileage = mileage\n",
        "        \n",
        "        \n",
        "car = vehicle(100,85 )\n",
        "print(car.max_speed, car.mileage)\n"
      ],
      "metadata": {
        "colab": {
          "base_uri": "https://localhost:8080/"
        },
        "id": "q_DyJj7Vvvri",
        "outputId": "59ba19e2-9891-448c-e7cc-ecfa76fb6b45"
      },
      "execution_count": null,
      "outputs": [
        {
          "output_type": "stream",
          "name": "stdout",
          "text": [
            "100 85\n"
          ]
        }
      ]
    },
    {
      "cell_type": "code",
      "source": [
        "#2\n",
        "class vehicle:\n",
        "    pass"
      ],
      "metadata": {
        "id": "26vsAkMswCPX"
      },
      "execution_count": null,
      "outputs": []
    },
    {
      "cell_type": "code",
      "source": [
        "#3\n",
        "\n",
        "class vehicle:\n",
        "    def __init__(self, name, mileage, capacity):\n",
        "        self.name = name\n",
        "        self.mileage = mileage\n",
        "        self.capacity = capacity\n",
        "\n",
        "\n",
        "class Bus(vehicle):\n",
        "    pass"
      ],
      "metadata": {
        "id": "hlpRfKaKwgQw"
      },
      "execution_count": null,
      "outputs": []
    },
    {
      "cell_type": "code",
      "source": [
        "#4\n",
        "class Vehicle:\n",
        "    def __init__(self, name, max_speed, mileage):\n",
        "        self.name = name\n",
        "        self.max_speed = max_speed\n",
        "        self.mileage = mileage\n",
        "\n",
        "    def bus_seating_capacity(self, capacity):\n",
        "        return capacity\n",
        "\n",
        "class Bus(Vehicle):\n",
        "    \n",
        "    def seating_capacity(self, capacity=70):\n",
        "        return super().bus_seating_capacity(capacity=70)\n",
        "bus = Bus(\"Mercedes\", 100,50)\n",
        "print(bus.seating_capacity())"
      ],
      "metadata": {
        "colab": {
          "base_uri": "https://localhost:8080/"
        },
        "id": "FTz7icL1wiNK",
        "outputId": "fcce6378-2e70-4053-a8fb-b521cedadb14"
      },
      "execution_count": null,
      "outputs": [
        {
          "output_type": "stream",
          "name": "stdout",
          "text": [
            "70\n"
          ]
        }
      ]
    },
    {
      "cell_type": "code",
      "source": [
        "class vehicle:\n",
        "    def __init__(self, name, mileage, capacity):\n",
        "        self.name = name\n",
        "        self.mileage = mileage\n",
        "        self.capacity = capacity\n",
        "\n",
        "    def busfare(self):\n",
        "        return self.capacity * 100\n",
        "\n",
        "class Bus(vehicle):\n",
        "    def busfare(self):\n",
        "        amount = super().busfare()\n",
        "        amount += amount * 10 / 100\n",
        "        return amount\n",
        "\n",
        "bus = Bus(\"Mercedes\", 20, 70)\n",
        "print(\"Total Bus fare is:\", bus.busfare())"
      ],
      "metadata": {
        "colab": {
          "base_uri": "https://localhost:8080/"
        },
        "id": "6nPqTqPhw6bn",
        "outputId": "bfb70d3c-5062-4646-a921-845025a1cab4"
      },
      "execution_count": null,
      "outputs": [
        {
          "output_type": "stream",
          "name": "stdout",
          "text": [
            "Total Bus fare is: 7700.0\n"
          ]
        }
      ]
    }
  ]
}