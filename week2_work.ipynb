{
  "nbformat": 4,
  "nbformat_minor": 0,
  "metadata": {
    "colab": {
      "provenance": []
    },
    "kernelspec": {
      "name": "python3",
      "display_name": "Python 3"
    },
    "language_info": {
      "name": "python"
    }
  },
  "cells": [
    {
      "cell_type": "markdown",
      "source": [
        "NAME- SHREYAS HUNDEKAR ROLL NO. 29 DIV A / A2 BATCH"
      ],
      "metadata": {
        "id": "vavWPGxMsWPZ"
      }
    },
    {
      "cell_type": "code",
      "source": [
        "#1\n",
        "def sum_three(a,b,c):\n",
        " if a==b or b==c or c==a:\n",
        "   sum=3\n",
        " else:\n",
        "   sum=3\n",
        " return sum\n",
        "print(sum_three(4,6,8))\n",
        "print(sum_three(3,2,1))"
      ],
      "metadata": {
        "id": "UHYzyq2dsjiV",
        "outputId": "dc6676c8-c96c-43a7-a434-9f43f6d66e08",
        "colab": {
          "base_uri": "https://localhost:8080/"
        }
      },
      "execution_count": null,
      "outputs": [
        {
          "output_type": "stream",
          "name": "stdout",
          "text": [
            "3\n",
            "3\n"
          ]
        }
      ]
    },
    {
      "cell_type": "code",
      "source": [],
      "metadata": {
        "id": "Q1acoiQNsoSx"
      },
      "execution_count": null,
      "outputs": []
    },
    {
      "cell_type": "code",
      "source": [
        "#2\n",
        "def DtoLoT(dict):\n",
        "    dict = {'shreyas':29, 'pranjal':16, 'praasad':10, 'priyanshu':46}\n",
        "    list = [(k, v) for k, v in dict.items()]\n",
        "\n",
        "    list.sort(key = lambda x: x[0])\n",
        "    return list\n",
        "\n",
        "print(DtoLoT(dict))"
      ],
      "metadata": {
        "id": "vW3dTj2X6nA4",
        "colab": {
          "base_uri": "https://localhost:8080/"
        },
        "outputId": "7438775e-71ff-49cb-9f97-31fd256ff67d"
      },
      "execution_count": null,
      "outputs": [
        {
          "output_type": "stream",
          "name": "stdout",
          "text": [
            "[('praasad', 10), ('pranjal', 16), ('priyanshu', 46), ('shreyas', 29)]\n"
          ]
        }
      ]
    },
    {
      "cell_type": "code",
      "source": [
        "#3\n",
        "def replaceVowels(str, K):\n",
        "    vowels = 'aeiou'\n",
        "    for i in vowels:\n",
        "        str = str.replace(i, K)\n",
        "    return str\n",
        "\n",
        "input_str = \"I am Bob - THE BUILDER\"\n",
        "K = \"i\"\n",
        "\n",
        "print(\"Input string =\", input_str)\n",
        "print(\"Specified vowel =\", K)\n",
        "print(\"After replacing =\", replaceVowels(input_str, K))"
      ],
      "metadata": {
        "id": "G0r7tDlC9HnJ",
        "colab": {
          "base_uri": "https://localhost:8080/"
        },
        "outputId": "0b81d162-5892-4436-ce4c-c78ad1c3c862"
      },
      "execution_count": null,
      "outputs": [
        {
          "output_type": "stream",
          "name": "stdout",
          "text": [
            "Input string = I am Bob - THE BUILDER\n",
            "Specified vowel = i\n",
            "After replacing = I im Bib - THE BUILDER\n"
          ]
        }
      ]
    },
    {
      "cell_type": "code",
      "source": [
        "#5\n",
        "def allu_arjun(st):\n",
        "  res = []\n",
        "  for index, c in enumerate(st):\n",
        "    if index % 2 == 0:\n",
        "      res.append(c.upper())\n",
        "    else:\n",
        "      res.append(c.lower())\n",
        "  return '' .join(res)\n",
        "print(allu_arjun(\"Walk like a King or walk like you don't care who is the king.\"))"
      ],
      "metadata": {
        "id": "Vr61TfvS9NWz",
        "colab": {
          "base_uri": "https://localhost:8080/"
        },
        "outputId": "54f9660f-2023-48e6-8542-435311479cb0"
      },
      "execution_count": null,
      "outputs": [
        {
          "output_type": "stream",
          "name": "stdout",
          "text": [
            "WaLk lIkE A KiNg oR WaLk lIkE YoU DoN'T CaRe wHo iS ThE KiNg.\n"
          ]
        }
      ]
    }
  ]
}